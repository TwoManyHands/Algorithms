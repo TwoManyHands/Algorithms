{
  "cells": [
    {
      "cell_type": "markdown",
      "metadata": {
        "id": "view-in-github",
        "colab_type": "text"
      },
      "source": [
        "<a href=\"https://colab.research.google.com/github/TwoManyHands/Algorithms/blob/main/Matrix_Class_1.ipynb\" target=\"_parent\"><img src=\"https://colab.research.google.com/assets/colab-badge.svg\" alt=\"Open In Colab\"/></a>"
      ]
    },
    {
      "cell_type": "markdown",
      "metadata": {
        "id": "ZpwZAJd97g18"
      },
      "source": [
        "# Building the Basic Class"
      ]
    },
    {
      "cell_type": "markdown",
      "metadata": {
        "id": "_WLoOl7S7g1-"
      },
      "source": [
        "## Creating a matrix"
      ]
    },
    {
      "cell_type": "code",
      "execution_count": 1,
      "metadata": {
        "id": "hztHJ7YA7g1_"
      },
      "outputs": [],
      "source": [
        "class Matrix:\n",
        "    rows = 0\n",
        "    columns = 0\n",
        "    matrix = []\n",
        "    matrixRow = []\n",
        "    dataCount = 0\n",
        "    matrixList = []\n",
        "    tempProduct = 0\n",
        "\n",
        "    def __init__(self, Rows, Columns, Data = []):\n",
        "        if Data == []:\n",
        "            Data = [None] * (Rows * Columns)\n",
        "        self.matrix = []\n",
        "        self.rows = Rows\n",
        "        self.columns = Columns\n",
        "        for i in range(Rows):\n",
        "            self.matrixRow = []\n",
        "            for j in range(Columns):\n",
        "                self.matrixRow.append(\n",
        "                    Data[self.dataCount])\n",
        "                self.dataCount += 1\n",
        "            self.matrix.append(self.matrixRow)\n",
        "\n"
      ]
    },
    {
      "cell_type": "markdown",
      "metadata": {
        "id": "ImTgH-X67g2B"
      },
      "source": [
        "## Printing the resulting matrix"
      ]
    },
    {
      "cell_type": "code",
      "execution_count": 2,
      "metadata": {
        "id": "Mn_V2nxP7g2B",
        "outputId": "19e1ef69-e53e-49f1-8eee-b5c113681374",
        "colab": {
          "base_uri": "https://localhost:8080/"
        }
      },
      "outputs": [
        {
          "output_type": "stream",
          "name": "stdout",
          "text": [
            "2\n",
            "2\n",
            "[[None, None], [None, None]]\n"
          ]
        }
      ],
      "source": [
        "myMatrix = Matrix(2,2)\n",
        "print(myMatrix.rows)\n",
        "print(myMatrix.columns)\n",
        "print(myMatrix.matrix)"
      ]
    },
    {
      "cell_type": "code",
      "source": [
        "from typing import List\n",
        "z=list(range(6))\n",
        "print(z)"
      ],
      "metadata": {
        "id": "VFowVFBWAbrr",
        "outputId": "ce593533-5aaf-475f-cedb-de3fcb175a0a",
        "colab": {
          "base_uri": "https://localhost:8080/"
        }
      },
      "execution_count": 6,
      "outputs": [
        {
          "output_type": "stream",
          "name": "stdout",
          "text": [
            "[0, 1, 2, 3, 4, 5]\n"
          ]
        }
      ]
    },
    {
      "cell_type": "code",
      "source": [
        "myMatrix = Matrix(2,3,z)\n",
        "print(myMatrix.rows)\n",
        "print(myMatrix.columns)\n",
        "print(myMatrix.matrix)"
      ],
      "metadata": {
        "id": "UXMBwasHnJP3",
        "outputId": "d0310dd2-f5cd-49b4-ee47-d5bd9c540da4",
        "colab": {
          "base_uri": "https://localhost:8080/"
        }
      },
      "execution_count": 8,
      "outputs": [
        {
          "output_type": "stream",
          "name": "stdout",
          "text": [
            "2\n",
            "3\n",
            "[[0, 1, 2], [3, 4, 5]]\n"
          ]
        }
      ]
    },
    {
      "cell_type": "code",
      "source": [],
      "metadata": {
        "id": "mSPjObFEnace"
      },
      "execution_count": null,
      "outputs": []
    }
  ],
  "metadata": {
    "kernelspec": {
      "display_name": "Python 3",
      "language": "python",
      "name": "python3"
    },
    "language_info": {
      "codemirror_mode": {
        "name": "ipython",
        "version": 3
      },
      "file_extension": ".py",
      "mimetype": "text/x-python",
      "name": "python",
      "nbconvert_exporter": "python",
      "pygments_lexer": "ipython3",
      "version": "3.8.3"
    },
    "colab": {
      "provenance": [],
      "include_colab_link": true
    }
  },
  "nbformat": 4,
  "nbformat_minor": 0
}