{
  "cells": [
    {
      "cell_type": "markdown",
      "metadata": {
        "id": "view-in-github",
        "colab_type": "text"
      },
      "source": [
        "<a href=\"https://colab.research.google.com/github/TwoManyHands/Algorithms/blob/main/Matrix_Class_1.ipynb\" target=\"_parent\"><img src=\"https://colab.research.google.com/assets/colab-badge.svg\" alt=\"Open In Colab\"/></a>"
      ]
    },
    {
      "cell_type": "markdown",
      "metadata": {
        "id": "ZpwZAJd97g18"
      },
      "source": [
        "# Building the Basic Class"
      ]
    },
    {
      "cell_type": "markdown",
      "metadata": {
        "id": "_WLoOl7S7g1-"
      },
      "source": [
        "## Creating a matrix"
      ]
    },
    {
      "cell_type": "code",
      "execution_count": null,
      "metadata": {
        "id": "hztHJ7YA7g1_"
      },
      "outputs": [],
      "source": [
        "class Matrix:\n",
        "    rows = 0\n",
        "    columns = 0\n",
        "    matrix = []\n",
        "    matrixRow = []\n",
        "    dataCount = 0\n",
        "    matrixList = []\n",
        "    tempProduct = 0\n",
        "\n",
        "    def __init__(self, Rows, Columns, Data = []):\n",
        "        if Data == []:\n",
        "            Data = [None] * (Rows * Columns)\n",
        "        self.matrix = []\n",
        "        self.rows = Rows\n",
        "        self.columns = Columns\n",
        "        for i in range(Rows):\n",
        "            self.matrixRow = []\n",
        "            for j in range(Columns):\n",
        "                self.matrixRow.append(\n",
        "                    Data[self.dataCount])\n",
        "                self.dataCount += 1\n",
        "            self.matrix.append(self.matrixRow)\n",
        "\n",
        ""
      ]
    },
    {
      "cell_type": "markdown",
      "metadata": {
        "id": "ImTgH-X67g2B"
      },
      "source": [
        "## Printing the resulting matrix"
      ]
    },
    {
      "cell_type": "code",
      "execution_count": null,
      "metadata": {
        "id": "Mn_V2nxP7g2B",
        "outputId": "e13bc8de-83eb-4ce2-ae5b-277c8d2409ef"
      },
      "outputs": [
        {
          "name": "stdout",
          "output_type": "stream",
          "text": [
            "2\n",
            "3\n",
            "[[None, None, None], [None, None, None]]\n"
          ]
        }
      ],
      "source": [
        "myMatrix = Matrix(2, 3)\n",
        "print(myMatrix.rows)\n",
        "print(myMatrix.columns)\n",
        "print(myMatrix.matrix)"
      ]
    }
  ],
  "metadata": {
    "kernelspec": {
      "display_name": "Python 3",
      "language": "python",
      "name": "python3"
    },
    "language_info": {
      "codemirror_mode": {
        "name": "ipython",
        "version": 3
      },
      "file_extension": ".py",
      "mimetype": "text/x-python",
      "name": "python",
      "nbconvert_exporter": "python",
      "pygments_lexer": "ipython3",
      "version": "3.8.3"
    },
    "colab": {
      "provenance": [],
      "include_colab_link": true
    }
  },
  "nbformat": 4,
  "nbformat_minor": 0
}