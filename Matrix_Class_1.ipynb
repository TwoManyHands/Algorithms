{
  "cells": [
    {
      "cell_type": "markdown",
      "metadata": {
        "id": "view-in-github",
        "colab_type": "text"
      },
      "source": [
        "<a href=\"https://colab.research.google.com/github/TwoManyHands/Algorithms/blob/main/Matrix_Class_1.ipynb\" target=\"_parent\"><img src=\"https://colab.research.google.com/assets/colab-badge.svg\" alt=\"Open In Colab\"/></a>"
      ]
    },
    {
      "cell_type": "markdown",
      "metadata": {
        "id": "ZpwZAJd97g18"
      },
      "source": [
        "# Building the Basic Class"
      ]
    },
    {
      "cell_type": "markdown",
      "metadata": {
        "id": "_WLoOl7S7g1-"
      },
      "source": [
        "## Creating a matrix"
      ]
    },
    {
      "cell_type": "code",
      "execution_count": 22,
      "metadata": {
        "id": "hztHJ7YA7g1_"
      },
      "outputs": [],
      "source": [
        "class Matrix:\n",
        "    rows = 0\n",
        "    columns = 0\n",
        "    matrix = []\n",
        "    matrixRow = []\n",
        "    dataCount = 0\n",
        "    matrixList = []\n",
        "    tempProduct = 0\n",
        "\n",
        "    def __init__(self, Rows, Columns, Data = []):\n",
        "        if Data == []:\n",
        "            Data = [None] * (Rows * Columns)\n",
        "        self.matrix = []\n",
        "        self.rows = Rows\n",
        "        self.columns = Columns\n",
        "        for i in range(Rows):\n",
        "            self.matrixRow = []\n",
        "            for j in range(Columns):\n",
        "                self.matrixRow.append(\n",
        "                    Data[self.dataCount])\n",
        "                self.dataCount += 1\n",
        "            self.matrix.append(self.matrixRow)\n",
        "\n",
        "    def __getitem__(self, index):\n",
        "        return self.matrix[index]\n",
        "\n",
        "    def __add__(self, Value):\n",
        "      self.matrixList=[]\n",
        "      if type(Value) == list:\n",
        "        for i in range(self.rows):\n",
        "          for j in range(self.columns):\n",
        "            self.matrixList.append(self.matrix[i][j] + Value[i][j])\n",
        "        for i in range(self.rows):\n",
        "          for j in range(self.columns):\n",
        "            self.matrixList.append(self.matrix[i][j] + Value)\n",
        "      return Matrix(self.rows, self.columns, self.matrixList)\n",
        "\n"
      ]
    },
    {
      "cell_type": "markdown",
      "metadata": {
        "id": "ImTgH-X67g2B"
      },
      "source": [
        "## Printing the resulting matrix"
      ]
    },
    {
      "cell_type": "code",
      "execution_count": 23,
      "metadata": {
        "id": "Mn_V2nxP7g2B",
        "outputId": "086b8833-c9e3-4264-8c4b-492166c2bd6d",
        "colab": {
          "base_uri": "https://localhost:8080/"
        }
      },
      "outputs": [
        {
          "output_type": "stream",
          "name": "stdout",
          "text": [
            "2\n",
            "2\n",
            "[[None, None], [None, None]]\n"
          ]
        }
      ],
      "source": [
        "myMatrix = Matrix(2,2)\n",
        "print(myMatrix.rows)\n",
        "print(myMatrix.columns)\n",
        "print(myMatrix.matrix)"
      ]
    },
    {
      "cell_type": "code",
      "source": [
        "from typing import List\n",
        "z=list(range(6))\n",
        "print(z)"
      ],
      "metadata": {
        "id": "VFowVFBWAbrr",
        "outputId": "b8f76e8e-36d2-402d-b3c1-125f29ef9978",
        "colab": {
          "base_uri": "https://localhost:8080/"
        }
      },
      "execution_count": 24,
      "outputs": [
        {
          "output_type": "stream",
          "name": "stdout",
          "text": [
            "[0, 1, 2, 3, 4, 5]\n"
          ]
        }
      ]
    },
    {
      "cell_type": "code",
      "source": [
        "myMatrix2 = Matrix(2,3,z)\n",
        "print(myMatrix2.rows)\n",
        "print(myMatrix2.columns)\n",
        "print(myMatrix2.matrix)"
      ],
      "metadata": {
        "id": "UXMBwasHnJP3",
        "outputId": "5fa7987d-616f-4a7a-d089-8cc24097e82d",
        "colab": {
          "base_uri": "https://localhost:8080/"
        }
      },
      "execution_count": 25,
      "outputs": [
        {
          "output_type": "stream",
          "name": "stdout",
          "text": [
            "2\n",
            "3\n",
            "[[0, 1, 2], [3, 4, 5]]\n"
          ]
        }
      ]
    },
    {
      "cell_type": "code",
      "source": [
        "print(myMatrix2[1])\n",
        "print(myMatrix2[1][2])"
      ],
      "metadata": {
        "id": "mSPjObFEnace",
        "outputId": "8a32dbed-447b-4ae3-ed16-8b029ac42055",
        "colab": {
          "base_uri": "https://localhost:8080/"
        }
      },
      "execution_count": 26,
      "outputs": [
        {
          "output_type": "stream",
          "name": "stdout",
          "text": [
            "[3, 4, 5]\n",
            "5\n"
          ]
        }
      ]
    },
    {
      "cell_type": "code",
      "source": [
        "#myMatrix +=2\n",
        "myMatrix2 += [[10,10,10],[10,10,10]]\n",
        "print(myMatrix2.matrix)"
      ],
      "metadata": {
        "id": "lLGvL_SpAwHG",
        "outputId": "12fb1f83-df98-49a2-be60-670dec0d8244",
        "colab": {
          "base_uri": "https://localhost:8080/"
        }
      },
      "execution_count": 32,
      "outputs": [
        {
          "output_type": "stream",
          "name": "stdout",
          "text": [
            "[[14, 15, 16], [17, 18, 19]]\n"
          ]
        }
      ]
    },
    {
      "cell_type": "code",
      "source": [
        "myMatrix2"
      ],
      "metadata": {
        "id": "4rfVPeCsDYQ5",
        "outputId": "2b03148f-6eff-4ff6-98a1-580839f17dc2",
        "colab": {
          "base_uri": "https://localhost:8080/"
        }
      },
      "execution_count": 28,
      "outputs": [
        {
          "output_type": "execute_result",
          "data": {
            "text/plain": [
              "<__main__.Matrix at 0x78a5b7725510>"
            ]
          },
          "metadata": {},
          "execution_count": 28
        }
      ]
    },
    {
      "cell_type": "code",
      "source": [],
      "metadata": {
        "id": "VzIDs2rmE84x"
      },
      "execution_count": null,
      "outputs": []
    }
  ],
  "metadata": {
    "kernelspec": {
      "display_name": "Python 3",
      "language": "python",
      "name": "python3"
    },
    "language_info": {
      "codemirror_mode": {
        "name": "ipython",
        "version": 3
      },
      "file_extension": ".py",
      "mimetype": "text/x-python",
      "name": "python",
      "nbconvert_exporter": "python",
      "pygments_lexer": "ipython3",
      "version": "3.8.3"
    },
    "colab": {
      "provenance": [],
      "include_colab_link": true
    }
  },
  "nbformat": 4,
  "nbformat_minor": 0
}