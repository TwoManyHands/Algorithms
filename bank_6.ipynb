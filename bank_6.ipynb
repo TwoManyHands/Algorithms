{
  "nbformat": 4,
  "nbformat_minor": 0,
  "metadata": {
    "colab": {
      "provenance": [],
      "toc_visible": true,
      "authorship_tag": "ABX9TyPWPUiCKCAvOiub7GXfG2iX",
      "include_colab_link": true
    },
    "kernelspec": {
      "name": "python3",
      "display_name": "Python 3"
    },
    "language_info": {
      "name": "python"
    }
  },
  "cells": [
    {
      "cell_type": "markdown",
      "metadata": {
        "id": "view-in-github",
        "colab_type": "text"
      },
      "source": [
        "<a href=\"https://colab.research.google.com/github/TwoManyHands/Algorithms/blob/main/bank_6.ipynb\" target=\"_parent\"><img src=\"https://colab.research.google.com/assets/colab-badge.svg\" alt=\"Open In Colab\"/></a>"
      ]
    },
    {
      "cell_type": "markdown",
      "source": [
        "# Imports"
      ],
      "metadata": {
        "id": "5vtZoQf6fkSu"
      }
    },
    {
      "cell_type": "code",
      "source": [
        "from google.colab import drive\n",
        "drive.mount('/content/drive')"
      ],
      "metadata": {
        "colab": {
          "base_uri": "https://localhost:8080/"
        },
        "id": "hu8bIP1U1HFF",
        "outputId": "e578a0e3-ec2b-4c4e-da55-bfdf82bd2c3a"
      },
      "execution_count": 7,
      "outputs": [
        {
          "output_type": "stream",
          "name": "stdout",
          "text": [
            "Drive already mounted at /content/drive; to attempt to forcibly remount, call drive.mount(\"/content/drive\", force_remount=True).\n"
          ]
        }
      ]
    },
    {
      "cell_type": "code",
      "execution_count": 8,
      "metadata": {
        "id": "88FrT5x7piXG"
      },
      "outputs": [],
      "source": [
        "import pandas as pd\n",
        "import numpy as np\n",
        "import altair as alt\n",
        "from sklearn.model_selection import train_test_split\n",
        "\n",
        "bankData=pd.read_csv('/content/drive/MyDrive/Colab Notebooks/Chapter3/bank-full.csv',sep=';')"
      ]
    },
    {
      "cell_type": "code",
      "source": [
        "from pandas import set_option"
      ],
      "metadata": {
        "id": "YK32vcRKNhQn"
      },
      "execution_count": 9,
      "outputs": []
    },
    {
      "cell_type": "code",
      "source": [
        "bankNumeric=bankData[['age','balance','day','duration','campaign','pdays','previous']]"
      ],
      "metadata": {
        "id": "el-xJJkoNm-_"
      },
      "execution_count": 22,
      "outputs": []
    },
    {
      "cell_type": "code",
      "source": [],
      "metadata": {
        "id": "Mb51ygNONzCf"
      },
      "execution_count": null,
      "outputs": []
    },
    {
      "cell_type": "markdown",
      "source": [
        "# Standardise data (mean 0, stdev 1)"
      ],
      "metadata": {
        "id": "9pykofRPOESI"
      }
    },
    {
      "cell_type": "code",
      "source": [
        "from sklearn.preprocessing import StandardScaler\n",
        "from numpy import set_printoptions"
      ],
      "metadata": {
        "id": "9o1NDiDjOMyQ"
      },
      "execution_count": 13,
      "outputs": []
    },
    {
      "cell_type": "code",
      "source": [
        "set_printoptions(precision=3)\n",
        "scaling = StandardScaler().fit(bankNumeric)\n",
        "rescaledNum=scaling.fit_transform(bankNumeric)"
      ],
      "metadata": {
        "id": "3KynFl0WOXqY"
      },
      "execution_count": 14,
      "outputs": []
    },
    {
      "cell_type": "code",
      "source": [
        "rescaledNum[0:5]"
      ],
      "metadata": {
        "id": "xeON6TKLOuAY",
        "outputId": "c2749362-db4c-465e-c2ba-a3ba8cfcfab4",
        "colab": {
          "base_uri": "https://localhost:8080/"
        }
      },
      "execution_count": 17,
      "outputs": [
        {
          "output_type": "execute_result",
          "data": {
            "text/plain": [
              "array([[ 1.607,  0.256,  0.011, -0.569, -0.411, -0.252],\n",
              "       [ 0.289, -0.438, -0.416, -0.569, -0.411, -0.252],\n",
              "       [-0.747, -0.447, -0.707, -0.569, -0.411, -0.252],\n",
              "       [ 0.571,  0.047, -0.645, -0.569, -0.411, -0.252],\n",
              "       [-0.747, -0.447, -0.234, -0.569, -0.411, -0.252]])"
            ]
          },
          "metadata": {},
          "execution_count": 17
        }
      ]
    },
    {
      "cell_type": "code",
      "source": [],
      "metadata": {
        "id": "rlfP-Q9QOx04"
      },
      "execution_count": null,
      "outputs": []
    },
    {
      "cell_type": "markdown",
      "source": [
        "# Normalise"
      ],
      "metadata": {
        "id": "GAZ20mxSPnd0"
      }
    },
    {
      "cell_type": "code",
      "source": [
        "from sklearn.preprocessing import Normalizer\n",
        "normaliser=Normalizer().fit(bankNumeric)\n",
        "normalisedSum=normaliser.transform(bankNumeric)"
      ],
      "metadata": {
        "id": "EVPNWd4KPrUh"
      },
      "execution_count": 23,
      "outputs": []
    },
    {
      "cell_type": "code",
      "source": [
        "print(normalisedSum)"
      ],
      "metadata": {
        "id": "us5pTWGxQJy6",
        "outputId": "6acf2c8f-4e04-444b-d3e7-be8f57dc51c4",
        "colab": {
          "base_uri": "https://localhost:8080/"
        }
      },
      "execution_count": 24,
      "outputs": [
        {
          "output_type": "stream",
          "name": "stdout",
          "text": [
            "[[ 2.686e-02  9.923e-01  2.315e-03 ...  4.630e-04 -4.630e-04  0.000e+00]\n",
            " [ 2.750e-01  1.812e-01  3.125e-02 ...  6.249e-03 -6.249e-03  0.000e+00]\n",
            " [ 3.974e-01  2.408e-02  6.021e-02 ...  1.204e-02 -1.204e-02  0.000e+00]\n",
            " ...\n",
            " [ 1.235e-02  9.805e-01  2.917e-03 ...  8.579e-04  3.157e-02  5.147e-04]\n",
            " [ 6.775e-02  7.940e-01  2.021e-02 ...  4.754e-03 -1.189e-03  0.000e+00]\n",
            " [ 1.234e-02  9.906e-01  5.668e-03 ...  6.669e-04  6.269e-02  3.668e-03]]\n"
          ]
        }
      ]
    },
    {
      "cell_type": "code",
      "source": [],
      "metadata": {
        "id": "B0XOdYfFQOya"
      },
      "execution_count": null,
      "outputs": []
    }
  ]
}