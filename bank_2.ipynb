{
  "nbformat": 4,
  "nbformat_minor": 0,
  "metadata": {
    "colab": {
      "provenance": [],
      "authorship_tag": "ABX9TyNbht7t3+BqMjpVWumillvj",
      "include_colab_link": true
    },
    "kernelspec": {
      "name": "python3",
      "display_name": "Python 3"
    },
    "language_info": {
      "name": "python"
    }
  },
  "cells": [
    {
      "cell_type": "markdown",
      "metadata": {
        "id": "view-in-github",
        "colab_type": "text"
      },
      "source": [
        "<a href=\"https://colab.research.google.com/github/TwoManyHands/Algorithms/blob/main/bank_2.ipynb\" target=\"_parent\"><img src=\"https://colab.research.google.com/assets/colab-badge.svg\" alt=\"Open In Colab\"/></a>"
      ]
    },
    {
      "cell_type": "markdown",
      "source": [
        "# Imports"
      ],
      "metadata": {
        "id": "5vtZoQf6fkSu"
      }
    },
    {
      "cell_type": "code",
      "source": [
        "from google.colab import drive\n",
        "drive.mount('/content/drive')"
      ],
      "metadata": {
        "colab": {
          "base_uri": "https://localhost:8080/"
        },
        "id": "hu8bIP1U1HFF",
        "outputId": "89d1547d-1511-43e1-e508-92c846a729ec"
      },
      "execution_count": 2,
      "outputs": [
        {
          "output_type": "stream",
          "name": "stdout",
          "text": [
            "Mounted at /content/drive\n"
          ]
        }
      ]
    },
    {
      "cell_type": "code",
      "execution_count": 3,
      "metadata": {
        "id": "88FrT5x7piXG"
      },
      "outputs": [],
      "source": [
        "import pandas as pd\n",
        "import numpy as np\n",
        "import altair as alt\n",
        "from sklearn.model_selection import train_test_split"
      ]
    },
    {
      "cell_type": "markdown",
      "source": [
        "# Age Propensity"
      ],
      "metadata": {
        "id": "pbgh02D5fcTJ"
      }
    },
    {
      "cell_type": "code",
      "source": [
        "bankData=pd.read_csv('/content/drive/MyDrive/Colab Notebooks/Chapter3/bank-full.csv',sep=';')"
      ],
      "metadata": {
        "id": "IVO58CTEzmSF"
      },
      "execution_count": null,
      "outputs": []
    },
    {
      "cell_type": "code",
      "source": [
        "bankData.tail()"
      ],
      "metadata": {
        "id": "DeaGKfdM1ZNd"
      },
      "execution_count": null,
      "outputs": []
    },
    {
      "cell_type": "code",
      "source": [
        "filter_mask=bankData['y']=='yes'\n",
        "bankSub1=bankData[filter_mask].groupby('age')['y'].agg(agegrp='count').reset_index()\n",
        "bankSub1[70:73]"
      ],
      "metadata": {
        "id": "TQCpcRO61zbH"
      },
      "execution_count": null,
      "outputs": []
    },
    {
      "cell_type": "code",
      "source": [
        "bankSub1[30:31]\n",
        "alt.Chart(bankSub1).mark_line().encode(x='age',y='agegrp')"
      ],
      "metadata": {
        "id": "akFjprW73T5f"
      },
      "execution_count": null,
      "outputs": []
    },
    {
      "cell_type": "code",
      "source": [
        "ageTot=bankData.groupby('age')['y'].agg(ageTot='count').reset_index()\n",
        "ageTot.head()"
      ],
      "metadata": {
        "id": "rLc_Rc2J5HUx"
      },
      "execution_count": null,
      "outputs": []
    },
    {
      "cell_type": "code",
      "source": [
        "ageProp=bankData.groupby(['age','y'])['y'].agg(ageCat='count').reset_index()\n",
        "ageProp.head()"
      ],
      "metadata": {
        "id": "oW062xbu52sC"
      },
      "execution_count": null,
      "outputs": []
    },
    {
      "cell_type": "markdown",
      "source": [
        "## Merge the dataframes"
      ],
      "metadata": {
        "id": "hgDiIFa26-Or"
      }
    },
    {
      "cell_type": "code",
      "source": [
        "ageComb=pd.merge(ageProp,ageTot,left_on=['age'],right_on=['age'])\n",
        "ageComb['catProp']=(ageComb.ageCat/ageComb.ageTot)*100\n",
        "ageComb.head()"
      ],
      "metadata": {
        "id": "2EjtfRF77MOt"
      },
      "execution_count": null,
      "outputs": []
    },
    {
      "cell_type": "code",
      "source": [],
      "metadata": {
        "id": "R6GoklEC7oT7"
      },
      "execution_count": null,
      "outputs": []
    },
    {
      "cell_type": "markdown",
      "source": [
        "## Visualise the relationship using Altair"
      ],
      "metadata": {
        "id": "H-pKhY7a8GDp"
      }
    },
    {
      "cell_type": "code",
      "source": [
        "alt.Chart(ageComb).mark_line().encode(x='age',y='catProp').facet(column='y')"
      ],
      "metadata": {
        "id": "6QxGUui68K7s"
      },
      "execution_count": null,
      "outputs": []
    },
    {
      "cell_type": "code",
      "source": [],
      "metadata": {
        "id": "kawrNPgnHxYg"
      },
      "execution_count": null,
      "outputs": []
    },
    {
      "cell_type": "markdown",
      "source": [
        "# Employment Propensity"
      ],
      "metadata": {
        "id": "q3mi-NxpVHaR"
      }
    },
    {
      "cell_type": "code",
      "source": [],
      "metadata": {
        "id": "6cpq2okUVL8t"
      },
      "execution_count": null,
      "outputs": []
    },
    {
      "cell_type": "code",
      "source": [
        "empTot=bankData.groupby('age')['y'].agg(ageTot='count').reset_index()\n",
        "ageTot.head()"
      ],
      "metadata": {
        "id": "2tUwaGL2Vn4H"
      },
      "execution_count": null,
      "outputs": []
    },
    {
      "cell_type": "code",
      "source": [
        "jobList=bankData['job'].unique().tolist()\n",
        "print(jobList)\n",
        "len(jobList)"
      ],
      "metadata": {
        "id": "EQHFxvQfViL-"
      },
      "execution_count": null,
      "outputs": []
    },
    {
      "cell_type": "code",
      "source": [
        "jobStatusTot=bankData.groupby('job')['y'].agg(jobStatusTot='count').reset_index()\n",
        "jobStatusTot"
      ],
      "metadata": {
        "id": "HEvwQQH5b70G"
      },
      "execution_count": null,
      "outputs": []
    },
    {
      "cell_type": "code",
      "source": [],
      "metadata": {
        "id": "N233dyo_LG1g"
      },
      "execution_count": null,
      "outputs": []
    },
    {
      "cell_type": "markdown",
      "source": [
        "# Merge the two dataframes"
      ],
      "metadata": {
        "id": "H1wtjzZmLcPR"
      }
    },
    {
      "cell_type": "code",
      "source": [
        "jobComb=pd.merge(jobStatusProp,jobStatusTot,left_on=['job'],right_on=['job'])\n",
        "jobComb['catProp']=(jobComb.ageCat/jobComb.jobStatusTot)*100\n",
        "jobComb"
      ],
      "metadata": {
        "id": "ptH0ylgvLawr"
      },
      "execution_count": null,
      "outputs": []
    },
    {
      "cell_type": "code",
      "source": [
        "jobComb['y']=='yes'"
      ],
      "metadata": {
        "id": "TrPoF1TiZWPC"
      },
      "execution_count": null,
      "outputs": []
    },
    {
      "cell_type": "code",
      "source": [
        "dfy"
      ],
      "metadata": {
        "id": "wD6hV-hEqVot"
      },
      "execution_count": null,
      "outputs": []
    },
    {
      "cell_type": "code",
      "source": [],
      "metadata": {
        "id": "zgYA5mIYq_BU"
      },
      "execution_count": null,
      "outputs": []
    }
  ]
}