{
  "cells": [
    {
      "cell_type": "markdown",
      "metadata": {
        "id": "view-in-github",
        "colab_type": "text"
      },
      "source": [
        "<a href=\"https://colab.research.google.com/github/TwoManyHands/Algorithms/blob/main/Matrix_Class.ipynb\" target=\"_parent\"><img src=\"https://colab.research.google.com/assets/colab-badge.svg\" alt=\"Open In Colab\"/></a>"
      ]
    },
    {
      "cell_type": "markdown",
      "metadata": {
        "id": "ZpwZAJd97g18"
      },
      "source": [
        "# Building the Basic Class"
      ]
    },
    {
      "cell_type": "markdown",
      "metadata": {
        "id": "_WLoOl7S7g1-"
      },
      "source": [
        "## Creating a matrix"
      ]
    },
    {
      "cell_type": "code",
      "execution_count": null,
      "metadata": {
        "id": "hztHJ7YA7g1_"
      },
      "outputs": [],
      "source": [
        "class Matrix:\n",
        "    rows = 0\n",
        "    columns = 0\n",
        "    matrix = []\n",
        "    matrixRow = []\n",
        "    dataCount = 0\n",
        "    matrixList = []\n",
        "    tempProduct = 0\n",
        "\n",
        "    def __init__(self, Rows, Columns, Data = []):\n",
        "        if Data == []:\n",
        "            Data = [None] * (Rows * Columns)\n",
        "        self.matrix = []\n",
        "        self.rows = Rows\n",
        "        self.columns = Columns\n",
        "        for i in range(Rows):\n",
        "            self.matrixRow = []\n",
        "            for j in range(Columns):\n",
        "                self.matrixRow.append(\n",
        "                    Data[self.dataCount])\n",
        "                self.dataCount += 1\n",
        "            self.matrix.append(self.matrixRow)\n",
        "\n",
        "    def __getitem__(self, index):\n",
        "        return self.matrix[index]\n",
        "\n",
        "    def __add__(self, Value):\n",
        "        self.matrixList = []\n",
        "        if type(Value) == list:\n",
        "            for i in range(self.rows):\n",
        "                for j in range(self.columns):\n",
        "                    self.matrixList.append(\n",
        "                        self.matrix[i][j] + Value[i][j])\n",
        "\n",
        "        else:\n",
        "            for i in range(self.rows):\n",
        "                for j in range(self.columns):\n",
        "                    self.matrixList.append(\n",
        "                        self.matrix[i][j] + Value)\n",
        "\n",
        "        return Matrix(self.rows, self.columns,\n",
        "                      self.matrixList)\n",
        "\n",
        "    def __mul__(self, MatrixIn):\n",
        "        self.matrixList = []\n",
        "        for i in range(self.rows):\n",
        "            for j in range(self.columns):\n",
        "                self.matrixList.append(\n",
        "                    self.matrix[i][j] * MatrixIn[i][j])\n",
        "        return Matrix(self.rows, self.columns,\n",
        "                      self.matrixList)\n",
        "\n",
        "    def dot(self, MatrixIn):\n",
        "        self.matrixList = []\n",
        "        for i in range(self.rows):\n",
        "            for j in range(MatrixIn.columns):\n",
        "                tempProduct = 0\n",
        "                for k in range(self.columns):\n",
        "                    tempProduct += self.matrix[i][k] * \\\n",
        "                        MatrixIn[k][j]\n",
        "                self.matrixList.append(tempProduct)\n",
        "        return Matrix(self.rows, MatrixIn.columns, self.matrixList)\n",
        "\n",
        "    def transpose(self):\n",
        "        self.matrixList = []\n",
        "        for i in range(self.columns):\n",
        "            for j in range(self.rows):\n",
        "                self.matrixList.append(self.matrix[j][i])\n",
        "        return Matrix(self.columns, self.rows, self.matrixList)\n",
        "\n",
        "    def copyMatrix(self):\n",
        "        for i in range(self.rows):\n",
        "            for j in range(self.columns):\n",
        "                self.matrixList.append(self.matrix[i][j])\n",
        "        return Matrix(self.rows, self.columns, self.matrixList)\n",
        "\n",
        "    def determinant(self, Result=0):\n",
        "        # Address the simplest case first, the 2 X 2 matrix.\n",
        "        if len(self.matrix) == 2:\n",
        "            twoOut = self.matrix[0][0] * self.matrix[1][1] - \\\n",
        "                self.matrix[1][0] * self.matrix[0][1]\n",
        "            return twoOut\n",
        "\n",
        "        # Determine the number of rows in a matrix larger\n",
        "        # than 2 X 2.\n",
        "        rows = list(range(len(self.matrix)))\n",
        "\n",
        "        # Process each focus column in turn.\n",
        "        for focus in rows:\n",
        "\n",
        "            # Create a copy of the matrix.\n",
        "            submatrix = self.copyMatrix()\n",
        "\n",
        "            # Remove the first row of the submatrix.\n",
        "            submatrix.matrix = submatrix.matrix[1:]\n",
        "\n",
        "            # Obtain the number of remamining rows to\n",
        "            # process.\n",
        "            subrows = len(submatrix.matrix)\n",
        "\n",
        "            # Create the next smaller size matrix by slicing\n",
        "            # out the focus rows.\n",
        "            for i in range(subrows):\n",
        "                submatrix.matrix[i] = \\\n",
        "                    submatrix.matrix[i][0:focus] + \\\n",
        "                    submatrix.matrix[i][focus+1:]\n",
        "\n",
        "            # Determine the sign to use when performing the\n",
        "            # multiplication.\n",
        "            sign = (-1) ** (focus % 2)\n",
        "\n",
        "            # Call the determinant() function recursively\n",
        "            # with each smaller matrix.\n",
        "            subdeterminant = submatrix.determinant()\n",
        "\n",
        "            # Total the returns from the recursive calls.\n",
        "            Result += sign * self.matrix[0][focus] * \\\n",
        "                subdeterminant\n",
        "\n",
        "        return Result\n",
        "\n",
        "    def flatten(self):\n",
        "        self.matrixList = []\n",
        "        for i in range(self.rows):\n",
        "            for j in range(self.columns):\n",
        "                self.matrixList.append(self.matrix[i][j])\n",
        "        nestedResult = Matrix(1, self.rows * self.columns,\n",
        "                              self.matrixList)\n",
        "        nestedResult.matrix = nestedResult.matrix[0]\n",
        "        return nestedResult"
      ]
    },
    {
      "cell_type": "markdown",
      "metadata": {
        "id": "ImTgH-X67g2B"
      },
      "source": [
        "## Printing the resulting matrix"
      ]
    },
    {
      "cell_type": "code",
      "execution_count": null,
      "metadata": {
        "id": "Mn_V2nxP7g2B",
        "outputId": "e13bc8de-83eb-4ce2-ae5b-277c8d2409ef"
      },
      "outputs": [
        {
          "name": "stdout",
          "output_type": "stream",
          "text": [
            "2\n",
            "3\n",
            "[[None, None, None], [None, None, None]]\n"
          ]
        }
      ],
      "source": [
        "myMatrix = Matrix(2, 3)\n",
        "print(myMatrix.rows)\n",
        "print(myMatrix.columns)\n",
        "print(myMatrix.matrix)"
      ]
    },
    {
      "cell_type": "code",
      "execution_count": null,
      "metadata": {
        "id": "oYPz7FJ57g2C",
        "outputId": "c5c7d559-fc3e-4901-f4f4-9bedda81a02e"
      },
      "outputs": [
        {
          "name": "stdout",
          "output_type": "stream",
          "text": [
            "[0, 1, 2, 3, 4, 5]\n",
            "[[0, 1, 2], [3, 4, 5]]\n"
          ]
        }
      ],
      "source": [
        "z = list(range(6))\n",
        "print(z)\n",
        "myMatrix2 = Matrix(2, 3, z)\n",
        "print(myMatrix2.matrix)"
      ]
    },
    {
      "cell_type": "markdown",
      "metadata": {
        "id": "jpEAVc5q7g2C"
      },
      "source": [
        "## Accessing specific matrix elements"
      ]
    },
    {
      "cell_type": "code",
      "execution_count": null,
      "metadata": {
        "id": "KCtNJ6bh7g2D",
        "outputId": "99578c38-f55d-46a2-866c-3373b10932da"
      },
      "outputs": [
        {
          "name": "stdout",
          "output_type": "stream",
          "text": [
            "[3, 4, 5]\n",
            "5\n"
          ]
        }
      ],
      "source": [
        "print(myMatrix2[1])\n",
        "print(myMatrix2[1][2])"
      ]
    },
    {
      "cell_type": "markdown",
      "metadata": {
        "id": "TVEKB57x7g2D"
      },
      "source": [
        "## Performing scalar and matrix addition"
      ]
    },
    {
      "cell_type": "code",
      "execution_count": null,
      "metadata": {
        "id": "6aPXqxzG7g2D",
        "outputId": "957cefc2-cfd7-4a52-a1e7-a81cbc159b27"
      },
      "outputs": [
        {
          "name": "stdout",
          "output_type": "stream",
          "text": [
            "[[2, 3, 4], [5, 6, 7]]\n",
            "[[4, 7, 10], [13, 16, 19]]\n"
          ]
        }
      ],
      "source": [
        "myMatrix2 += 2\n",
        "print(myMatrix2.matrix)\n",
        "\n",
        "myMatrix2 += [[2, 4, 6], [8, 10, 12]]\n",
        "print(myMatrix2.matrix)"
      ]
    },
    {
      "cell_type": "markdown",
      "metadata": {
        "id": "rN8IwijE7g2E"
      },
      "source": [
        "## Performing multiplication"
      ]
    },
    {
      "cell_type": "markdown",
      "metadata": {
        "id": "Je9VH8Uc7g2E"
      },
      "source": [
        "### Element-wise product"
      ]
    },
    {
      "cell_type": "code",
      "execution_count": null,
      "metadata": {
        "id": "WRw1_aNr7g2F",
        "outputId": "95b14512-2eba-4d15-f5f2-0a6b0be6fb0f"
      },
      "outputs": [
        {
          "name": "stdout",
          "output_type": "stream",
          "text": [
            "[[1, 2, 3], [4, 5, 6]]\n",
            "[[1, 2, 3], [4, 5, 6]]\n",
            "[[1, 4, 9], [16, 25, 36]]\n"
          ]
        }
      ],
      "source": [
        "A = Matrix(2, 3, [1, 2, 3, 4, 5, 6])\n",
        "B = Matrix(2, 3, [1, 2, 3, 4, 5, 6])\n",
        "print(A.matrix)\n",
        "print(B.matrix)\n",
        "print((A * B).matrix)"
      ]
    },
    {
      "cell_type": "markdown",
      "metadata": {
        "id": "0pexGRFw7g2F"
      },
      "source": [
        "### Dot product"
      ]
    },
    {
      "cell_type": "code",
      "execution_count": null,
      "metadata": {
        "id": "uUbOUP8X7g2F",
        "outputId": "074d673a-8acc-4cdb-a2da-a741ba154f0e"
      },
      "outputs": [
        {
          "name": "stdout",
          "output_type": "stream",
          "text": [
            "[[1, 2, 1]]\n",
            "[[5, 3, 4, 3, 2], [2, 3, 3, 4, 4], [1, 2, 4, 2, 3]]\n",
            "[[10, 11, 14, 13, 13]]\n"
          ]
        }
      ],
      "source": [
        "Price = Matrix(1, 3, [1, 2, 1])\n",
        "Sales = Matrix(3, 5,\n",
        "    [5, 3, 4, 3, 2, 2, 3, 3, 4, 4, 1, 2, 4, 2, 3])\n",
        "print(Price.matrix)\n",
        "print(Sales.matrix)\n",
        "print(Price.dot(Sales).matrix)"
      ]
    },
    {
      "cell_type": "code",
      "execution_count": null,
      "metadata": {
        "id": "6NAfZ-pQ7g2G",
        "outputId": "0f49e067-f80c-404e-a473-82f004c8509c"
      },
      "outputs": [
        {
          "name": "stdout",
          "output_type": "stream",
          "text": [
            "[[1, 2, 1], [1, 3, 2], [2, 2, 1], [2, 3, 2], [1, 2, 2]]\n",
            "[[10, 11, 14, 13, 13], [13, 16, 21, 19, 20], [15, 14, 18, 16, 15], [18, 19, 25, 22, 22], [11, 13, 18, 15, 16]]\n"
          ]
        }
      ],
      "source": [
        "Prices = Matrix(5, 3,\n",
        "    [1, 2, 1, 1, 3, 2, 2, 2, 1, 2, 3, 2, 1, 2, 2])\n",
        "print(Prices.matrix)\n",
        "print(Prices.dot(Sales).matrix)"
      ]
    },
    {
      "cell_type": "markdown",
      "metadata": {
        "id": "mEUEvlq-7g2G"
      },
      "source": [
        "# Manipulating the Matrix"
      ]
    },
    {
      "cell_type": "markdown",
      "metadata": {
        "id": "Vf1VSKAg7g2G"
      },
      "source": [
        "## Transposing a matrix"
      ]
    },
    {
      "cell_type": "code",
      "execution_count": null,
      "metadata": {
        "id": "xJDNX9kT7g2G",
        "outputId": "ce479152-3d2e-4844-c601-a4b54e331a89"
      },
      "outputs": [
        {
          "name": "stdout",
          "output_type": "stream",
          "text": [
            "[[1, 2, 3], [4, 5, 6]]\n",
            "[[1, 4], [2, 5], [3, 6]]\n"
          ]
        }
      ],
      "source": [
        "print(A.matrix)\n",
        "print(A.transpose().matrix)"
      ]
    },
    {
      "cell_type": "markdown",
      "metadata": {
        "id": "cjsvwhlM7g2H"
      },
      "source": [
        "## Calculating the determinant"
      ]
    },
    {
      "cell_type": "code",
      "execution_count": null,
      "metadata": {
        "id": "3gq1vDAk7g2H",
        "outputId": "f282ce37-ba53-4bbf-801a-685ce9ead5ed"
      },
      "outputs": [
        {
          "name": "stdout",
          "output_type": "stream",
          "text": [
            "-2\n"
          ]
        }
      ],
      "source": [
        "A = Matrix(2, 2, [1, 2, 3, 4])\n",
        "print(A.determinant())"
      ]
    },
    {
      "cell_type": "code",
      "execution_count": null,
      "metadata": {
        "id": "WfluHyUk7g2H",
        "outputId": "646bbdc9-04ab-498c-80ff-db3b69b14ab6"
      },
      "outputs": [
        {
          "name": "stdout",
          "output_type": "stream",
          "text": [
            "105\n"
          ]
        }
      ],
      "source": [
        "B = Matrix(3, 3, [2, 5, 1, 5, 6, 7, 10, 9, 8])\n",
        "print(B.determinant())"
      ]
    },
    {
      "cell_type": "markdown",
      "metadata": {
        "id": "TSsWmGBv7g2I"
      },
      "source": [
        "## Flattening the matrix"
      ]
    },
    {
      "cell_type": "code",
      "execution_count": null,
      "metadata": {
        "id": "7kaBH0EP7g2I",
        "outputId": "bbb04e9e-7d16-4971-876c-e1c9ba948cff"
      },
      "outputs": [
        {
          "name": "stdout",
          "output_type": "stream",
          "text": [
            "[[1, 2, 3], [4, 5, 6], [7, 8, 9]]\n",
            "[1, 2, 3, 4, 5, 6, 7, 8, 9]\n"
          ]
        }
      ],
      "source": [
        "A = Matrix(3, 3, [1, 2, 3, 4, 5, 6, 7, 8, 9])\n",
        "print(A.matrix)\n",
        "print(A.flatten().matrix)"
      ]
    },
    {
      "cell_type": "code",
      "execution_count": null,
      "metadata": {
        "id": "iveatPmE7g2J"
      },
      "outputs": [],
      "source": []
    }
  ],
  "metadata": {
    "kernelspec": {
      "display_name": "Python 3",
      "language": "python",
      "name": "python3"
    },
    "language_info": {
      "codemirror_mode": {
        "name": "ipython",
        "version": 3
      },
      "file_extension": ".py",
      "mimetype": "text/x-python",
      "name": "python",
      "nbconvert_exporter": "python",
      "pygments_lexer": "ipython3",
      "version": "3.8.3"
    },
    "colab": {
      "provenance": [],
      "include_colab_link": true
    }
  },
  "nbformat": 4,
  "nbformat_minor": 0
}